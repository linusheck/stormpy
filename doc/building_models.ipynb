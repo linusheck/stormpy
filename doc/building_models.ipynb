{
 "cells": [
  {
   "cell_type": "markdown",
   "metadata": {},
   "source": [
    "# Building Models"
   ]
  },
  {
   "cell_type": "markdown",
   "metadata": {},
   "source": [
    "## Background\n",
    "\n",
    "Storm supports a wide range of formalisms. Stormpy can be used to build models from some of these formalisms.\n",
    "Moreover, during construction, various options can be set. This document yields information about the most important options."
   ]
  },
  {
   "cell_type": "markdown",
   "metadata": {},
   "source": [
    "## Building different formalisms\n",
    "\n",
    "We use some standard examples:"
   ]
  },
  {
   "cell_type": "code",
   "execution_count": 1,
   "metadata": {
    "execution": {
     "iopub.execute_input": "2023-07-14T12:12:24.547201Z",
     "iopub.status.busy": "2023-07-14T12:12:24.546735Z",
     "iopub.status.idle": "2023-07-14T12:12:24.592564Z",
     "shell.execute_reply": "2023-07-14T12:12:24.591988Z"
    },
    "hide-output": false
   },
   "outputs": [],
   "source": [
    ">>> import stormpy.examples\n",
    ">>> import stormpy.examples.files"
   ]
  },
  {
   "cell_type": "markdown",
   "metadata": {},
   "source": [
    "Storm supports the explicit DRN format.\n",
    "From this, models can be built directly:"
   ]
  },
  {
   "cell_type": "code",
   "execution_count": 2,
   "metadata": {
    "execution": {
     "iopub.execute_input": "2023-07-14T12:12:24.595213Z",
     "iopub.status.busy": "2023-07-14T12:12:24.594765Z",
     "iopub.status.idle": "2023-07-14T12:12:24.599345Z",
     "shell.execute_reply": "2023-07-14T12:12:24.598791Z"
    },
    "hide-output": false
   },
   "outputs": [
    {
     "name": "stdout",
     "output_type": "stream",
     "text": [
      "ModelType.CTMC\n",
      " WARN (DirectEncodingParser.cpp:119): No. of actions has to be declared. We may continue now, but future versions might not support this.\n"
     ]
    }
   ],
   "source": [
    ">>> path = stormpy.examples.files.drn_ctmc_dft\n",
    ">>> model = stormpy.build_model_from_drn(path)\n",
    ">>> print(model.model_type)"
   ]
  },
  {
   "cell_type": "markdown",
   "metadata": {},
   "source": [
    "And the same for parametric models:"
   ]
  },
  {
   "cell_type": "code",
   "execution_count": 3,
   "metadata": {
    "execution": {
     "iopub.execute_input": "2023-07-14T12:12:24.630916Z",
     "iopub.status.busy": "2023-07-14T12:12:24.630454Z",
     "iopub.status.idle": "2023-07-14T12:12:24.635285Z",
     "shell.execute_reply": "2023-07-14T12:12:24.634829Z"
    },
    "hide-output": false
   },
   "outputs": [
    {
     "name": "stdout",
     "output_type": "stream",
     "text": [
      "ModelType.DTMC\n",
      " WARN (DirectEncodingParser.cpp:119): No. of actions has to be declared. We may continue now, but future versions might not support this.\n"
     ]
    }
   ],
   "source": [
    ">>> path = stormpy.examples.files.drn_pdtmc_die\n",
    ">>> model = stormpy.build_parametric_model_from_drn(path)\n",
    ">>> print(model.model_type)"
   ]
  },
  {
   "cell_type": "markdown",
   "metadata": {},
   "source": [
    "Another option are JANI descriptions. These are another high-level description format.\n",
    "Building models from JANI is done in two steps. First the Jani-description is parsed, and then the model is built from this description:"
   ]
  },
  {
   "cell_type": "code",
   "execution_count": 4,
   "metadata": {
    "execution": {
     "iopub.execute_input": "2023-07-14T12:12:24.637464Z",
     "iopub.status.busy": "2023-07-14T12:12:24.637029Z",
     "iopub.status.idle": "2023-07-14T12:12:24.661387Z",
     "shell.execute_reply": "2023-07-14T12:12:24.660860Z"
    },
    "hide-output": false
   },
   "outputs": [
    {
     "name": "stdout",
     "output_type": "stream",
     "text": [
      "ModelType.DTMC\n"
     ]
    }
   ],
   "source": [
    ">>> path = stormpy.examples.files.jani_dtmc_die\n",
    ">>> jani_program, properties = stormpy.parse_jani_model(path)\n",
    ">>> model = stormpy.build_model(jani_program)\n",
    ">>> print(model.model_type)"
   ]
  },
  {
   "cell_type": "markdown",
   "metadata": {},
   "source": [
    "Notice that parsing JANI files also returns properties. In JANI, properties can be embedded in the model file."
   ]
  }
 ],
 "metadata": {
  "date": 1598188121.587518,
  "filename": "building_models.rst",
  "kernelspec": {
   "display_name": "Python 3",
   "language": "python",
   "name": "python3"
  },
  "language_info": {
   "codemirror_mode": {
    "name": "ipython",
    "version": 3
   },
   "file_extension": ".py",
   "mimetype": "text/x-python",
   "name": "python",
   "nbconvert_exporter": "python",
   "pygments_lexer": "ipython3",
   "version": "3.11.2"
  },
  "title": "Building Models"
 },
 "nbformat": 4,
 "nbformat_minor": 4
}
