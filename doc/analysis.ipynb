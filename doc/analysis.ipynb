{
 "cells": [
  {
   "cell_type": "markdown",
   "metadata": {},
   "source": [
    "# Analysis"
   ]
  },
  {
   "cell_type": "markdown",
   "metadata": {},
   "source": [
    "## Background\n",
    "\n",
    "Storm supports various model checking approaches that we consider in this section on analysis.\n",
    "\n",
    "As always:"
   ]
  },
  {
   "cell_type": "code",
   "execution_count": 1,
   "metadata": {
    "execution": {
     "iopub.execute_input": "2022-10-26T10:40:30.434983Z",
     "iopub.status.busy": "2022-10-26T10:40:30.434535Z",
     "iopub.status.idle": "2022-10-26T10:40:30.502118Z",
     "shell.execute_reply": "2022-10-26T10:40:30.501174Z"
    },
    "hide-output": false
   },
   "outputs": [],
   "source": [
    ">>> import stormpy\n",
    ">>> import stormpy.examples\n",
    ">>> import stormpy.examples.files\n",
    ">>> path = stormpy.examples.files.prism_dtmc_die\n",
    ">>> prism_program = stormpy.parse_prism_program(path)\n",
    ">>> formula_str = \"P=? [F s=7 & d=2]\"\n",
    ">>> properties = stormpy.parse_properties(formula_str, prism_program)"
   ]
  },
  {
   "cell_type": "markdown",
   "metadata": {},
   "source": [
    "## Qualitative Analysis"
   ]
  },
  {
   "cell_type": "markdown",
   "metadata": {},
   "source": [
    "## Adapting the model checking engine\n",
    "\n",
    "[02-analysis.py](https://github.com/moves-rwth/stormpy/blob/master/examples/analysis/02-analysis.py)\n",
    "\n",
    "Instead of using the sparse representation, models can also be built symbolically:"
   ]
  },
  {
   "cell_type": "code",
   "execution_count": 2,
   "metadata": {
    "execution": {
     "iopub.execute_input": "2022-10-26T10:40:30.507134Z",
     "iopub.status.busy": "2022-10-26T10:40:30.506712Z",
     "iopub.status.idle": "2022-10-26T10:40:31.003457Z",
     "shell.execute_reply": "2022-10-26T10:40:31.002652Z"
    },
    "hide-output": false
   },
   "outputs": [],
   "source": [
    ">>> model = stormpy.build_symbolic_model(prism_program, properties)\n",
    ">>> result = stormpy.model_checking(model, properties[0])"
   ]
  },
  {
   "cell_type": "markdown",
   "metadata": {},
   "source": [
    "To access the result, the result has to be filtered:"
   ]
  },
  {
   "cell_type": "code",
   "execution_count": 3,
   "metadata": {
    "execution": {
     "iopub.execute_input": "2022-10-26T10:40:31.008914Z",
     "iopub.status.busy": "2022-10-26T10:40:31.007679Z",
     "iopub.status.idle": "2022-10-26T10:40:31.014034Z",
     "shell.execute_reply": "2022-10-26T10:40:31.013374Z"
    },
    "hide-output": false
   },
   "outputs": [],
   "source": [
    ">>> filter = stormpy.create_filter_initial_states_symbolic(model)\n",
    ">>> result.filter(filter)\n",
    ">>> assert result.min == result.max"
   ]
  },
  {
   "cell_type": "markdown",
   "metadata": {},
   "source": [
    "Then, result.min (or result.max) contains the result. Notice that if there are multiple initial states, result.min will not be equal to result.max.\n",
    "\n",
    "Besides this analysis on the DD, there are approaches that combine both representation.\n",
    "Stormpy does support them, but we have not yet documented them."
   ]
  },
  {
   "cell_type": "markdown",
   "metadata": {},
   "source": [
    "## Adapting model checking algorithms\n",
    "\n",
    "[03-analysis.py](https://github.com/moves-rwth/stormpy/blob/master/examples/analysis/03-analysis.py)\n",
    "\n",
    "Reconsider the model checking example from the getting started guide:"
   ]
  },
  {
   "cell_type": "code",
   "execution_count": 4,
   "metadata": {
    "execution": {
     "iopub.execute_input": "2022-10-26T10:40:31.034820Z",
     "iopub.status.busy": "2022-10-26T10:40:31.033574Z",
     "iopub.status.idle": "2022-10-26T10:40:31.084198Z",
     "shell.execute_reply": "2022-10-26T10:40:31.083289Z"
    },
    "hide-output": false
   },
   "outputs": [],
   "source": [
    ">>> model = stormpy.build_model(prism_program, properties)\n",
    ">>> result = stormpy.model_checking(model, properties[0])"
   ]
  },
  {
   "cell_type": "markdown",
   "metadata": {},
   "source": [
    "We can also vary the model checking algorithm:"
   ]
  },
  {
   "cell_type": "code",
   "execution_count": 5,
   "metadata": {
    "execution": {
     "iopub.execute_input": "2022-10-26T10:40:31.088609Z",
     "iopub.status.busy": "2022-10-26T10:40:31.088340Z",
     "iopub.status.idle": "2022-10-26T10:40:31.094718Z",
     "shell.execute_reply": "2022-10-26T10:40:31.093882Z"
    },
    "hide-output": false
   },
   "outputs": [],
   "source": [
    ">>> env = stormpy.Environment()\n",
    ">>> env.solver_environment.set_linear_equation_solver_type(stormpy.EquationSolverType.native)\n",
    ">>> env.solver_environment.native_solver_environment.method = stormpy.NativeLinearEquationSolverMethod.power_iteration\n",
    ">>> result = stormpy.model_checking(model, properties[0], environment=env)"
   ]
  },
  {
   "cell_type": "markdown",
   "metadata": {},
   "source": [
    "Finally, we allow to change some parameters of the algorithms. E.g., in iterative approaches,\n",
    "we allow to change the number of iterations:"
   ]
  },
  {
   "cell_type": "code",
   "execution_count": 6,
   "metadata": {
    "execution": {
     "iopub.execute_input": "2022-10-26T10:40:31.098487Z",
     "iopub.status.busy": "2022-10-26T10:40:31.098192Z",
     "iopub.status.idle": "2022-10-26T10:40:31.102155Z",
     "shell.execute_reply": "2022-10-26T10:40:31.101285Z"
    },
    "hide-output": false
   },
   "outputs": [],
   "source": [
    ">>> env.solver_environment.native_solver_environment.maximum_iterations = 3\n",
    ">>> result = stormpy.model_checking(model, properties[0])"
   ]
  },
  {
   "cell_type": "markdown",
   "metadata": {},
   "source": [
    "Notice that by setting such parameters, the result may be off from the actual model checking algorithm.\n",
    "\n",
    "Environments can be used likewise for symbolic model checking. See the example for more information."
   ]
  }
 ],
 "metadata": {
  "date": 1598178167.1206837,
  "filename": "analysis.rst",
  "kernelspec": {
   "display_name": "Python 3",
   "language": "python",
   "name": "python3"
  },
  "language_info": {
   "codemirror_mode": {
    "name": "ipython",
    "version": 3
   },
   "file_extension": ".py",
   "mimetype": "text/x-python",
   "name": "python",
   "nbconvert_exporter": "python",
   "pygments_lexer": "ipython3",
   "version": "3.10.6"
  },
  "title": "Analysis"
 },
 "nbformat": 4,
 "nbformat_minor": 4
}
