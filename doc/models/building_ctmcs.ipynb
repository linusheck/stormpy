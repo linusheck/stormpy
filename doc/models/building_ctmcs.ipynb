{
 "cells": [
  {
   "cell_type": "markdown",
   "metadata": {},
   "source": [
    "# Continuous-time Markov chains (CTMCs)"
   ]
  },
  {
   "cell_type": "markdown",
   "metadata": {},
   "source": [
    "## Background\n",
    "\n",
    "In this section, we explain how Stormpy can be used to build a simple CTMC.\n",
    "Building CTMCs works similar to building DTMCs as in [Discrete-time Markov chains (DTMCs)](building_dtmcs.ipynb), but additionally every state is equipped with an exit rate.\n",
    "\n",
    "[01-building-ctmcs.py](https://github.com/moves-rwth/stormpy/blob/master/examples/building_ctmcs/01-building-ctmcs.py)\n",
    "\n",
    "First, we import Stormpy:"
   ]
  },
  {
   "cell_type": "code",
   "execution_count": 1,
   "metadata": {
    "execution": {
     "iopub.execute_input": "2022-06-29T10:37:52.583091Z",
     "iopub.status.busy": "2022-06-29T10:37:52.582605Z",
     "iopub.status.idle": "2022-06-29T10:37:52.650063Z",
     "shell.execute_reply": "2022-06-29T10:37:52.649071Z"
    },
    "hide-output": false
   },
   "outputs": [],
   "source": [
    ">>> import stormpy"
   ]
  },
  {
   "cell_type": "markdown",
   "metadata": {},
   "source": [
    "## Transition Matrix\n",
    "\n",
    "In this example, we build the transition matrix using a numpy array"
   ]
  },
  {
   "cell_type": "code",
   "execution_count": 2,
   "metadata": {
    "execution": {
     "iopub.execute_input": "2022-06-29T10:37:52.654724Z",
     "iopub.status.busy": "2022-06-29T10:37:52.654417Z",
     "iopub.status.idle": "2022-06-29T10:37:52.727069Z",
     "shell.execute_reply": "2022-06-29T10:37:52.726232Z"
    }
   },
   "outputs": [],
   "source": [
    ">>> import numpy as np\n",
    ">>> transitions = np.array([\n",
    "...    [0, 1.5, 0, 0],\n",
    "...    [3, 0, 1.5, 0],\n",
    "...    [0, 3, 0, 1.5],\n",
    "...    [0, 0, 3, 0], ], dtype='float64')"
   ]
  },
  {
   "cell_type": "markdown",
   "metadata": {},
   "source": [
    "The following function call returns a sparse matrix with default row groups:"
   ]
  },
  {
   "cell_type": "code",
   "execution_count": 3,
   "metadata": {
    "execution": {
     "iopub.execute_input": "2022-06-29T10:37:52.731116Z",
     "iopub.status.busy": "2022-06-29T10:37:52.730749Z",
     "iopub.status.idle": "2022-06-29T10:37:52.735254Z",
     "shell.execute_reply": "2022-06-29T10:37:52.734549Z"
    },
    "hide-output": false
   },
   "outputs": [
    {
     "name": "stdout",
     "output_type": "stream",
     "text": [
      "\t\t0\t1\t2\t3\t\n",
      "\t---- group 0/3 ---- \n",
      "0\t(\t0\t1.5\t0\t0\t\t)\t0\n",
      "\t---- group 1/3 ---- \n",
      "1\t(\t3\t0\t1.5\t0\t\t)\t1\n",
      "\t---- group 2/3 ---- \n",
      "2\t(\t0\t3\t0\t1.5\t\t)\t2\n",
      "\t---- group 3/3 ---- \n",
      "3\t(\t0\t0\t3\t0\t\t)\t3\n",
      "\t\t0\t1\t2\t3\t\n",
      "\n"
     ]
    }
   ],
   "source": [
    ">>> transition_matrix = stormpy.build_sparse_matrix(transitions)\n",
    ">>> print(transition_matrix) "
   ]
  },
  {
   "cell_type": "markdown",
   "metadata": {},
   "source": [
    "## Labeling\n",
    "\n",
    "The state labeling is created analogously to the previous example in [building DTMCs](building_dtmcs.ipynb#labeling):"
   ]
  },
  {
   "cell_type": "code",
   "execution_count": 4,
   "metadata": {
    "execution": {
     "iopub.execute_input": "2022-06-29T10:37:52.738885Z",
     "iopub.status.busy": "2022-06-29T10:37:52.738602Z",
     "iopub.status.idle": "2022-06-29T10:37:52.743121Z",
     "shell.execute_reply": "2022-06-29T10:37:52.742426Z"
    },
    "hide-output": false
   },
   "outputs": [],
   "source": [
    ">>> state_labeling = stormpy.storage.StateLabeling(4)\n",
    ">>> state_labels = {'empty', 'init', 'deadlock', 'full'}\n",
    ">>> for label in state_labels:\n",
    "...    state_labeling.add_label(label)\n",
    ">>> state_labeling.add_label_to_state('init', 0)\n",
    ">>> state_labeling.add_label_to_state('empty', 0)\n",
    ">>> state_labeling.add_label_to_state('full', 3)"
   ]
  },
  {
   "cell_type": "markdown",
   "metadata": {},
   "source": [
    "## Exit Rates\n",
    "\n",
    "Lastly, we initialize a list to equip every state with an exit rate:"
   ]
  },
  {
   "cell_type": "code",
   "execution_count": 5,
   "metadata": {
    "execution": {
     "iopub.execute_input": "2022-06-29T10:37:52.747408Z",
     "iopub.status.busy": "2022-06-29T10:37:52.746324Z",
     "iopub.status.idle": "2022-06-29T10:37:52.750553Z",
     "shell.execute_reply": "2022-06-29T10:37:52.749855Z"
    },
    "hide-output": false
   },
   "outputs": [],
   "source": [
    ">>> exit_rates = [1.5, 4.5, 4.5, 3.0]"
   ]
  },
  {
   "cell_type": "markdown",
   "metadata": {},
   "source": [
    "## Building the Model\n",
    "\n",
    "Now, we can collect all components, including the choice labeling and the exit rates.\n",
    "To let the transition values be interpreted as rates we set rate_transitions to True:"
   ]
  },
  {
   "cell_type": "code",
   "execution_count": 6,
   "metadata": {
    "execution": {
     "iopub.execute_input": "2022-06-29T10:37:52.772022Z",
     "iopub.status.busy": "2022-06-29T10:37:52.770573Z",
     "iopub.status.idle": "2022-06-29T10:37:52.776268Z",
     "shell.execute_reply": "2022-06-29T10:37:52.775521Z"
    },
    "hide-output": false
   },
   "outputs": [],
   "source": [
    ">>> components = stormpy.SparseModelComponents(transition_matrix=transition_matrix, state_labeling=state_labeling, rate_transitions=True)\n",
    ">>> components.exit_rates = exit_rates"
   ]
  },
  {
   "cell_type": "markdown",
   "metadata": {},
   "source": [
    "And finally, we can build the model:"
   ]
  },
  {
   "cell_type": "code",
   "execution_count": 7,
   "metadata": {
    "execution": {
     "iopub.execute_input": "2022-06-29T10:37:52.780669Z",
     "iopub.status.busy": "2022-06-29T10:37:52.780003Z",
     "iopub.status.idle": "2022-06-29T10:37:52.784539Z",
     "shell.execute_reply": "2022-06-29T10:37:52.783797Z"
    },
    "hide-output": false
   },
   "outputs": [
    {
     "name": "stdout",
     "output_type": "stream",
     "text": [
      "-------------------------------------------------------------- \n",
      "Model type: \tCTMC (sparse)\n",
      "States: \t4\n",
      "Transitions: \t6\n",
      "Reward Models:  none\n",
      "State Labels: \t4 labels\n",
      "   * init -> 1 item(s)\n",
      "   * empty -> 1 item(s)\n",
      "   * deadlock -> 0 item(s)\n",
      "   * full -> 1 item(s)\n",
      "Choice Labels: \tnone\n",
      "-------------------------------------------------------------- \n",
      "\n"
     ]
    }
   ],
   "source": [
    ">>> ctmc = stormpy.storage.SparseCtmc(components)\n",
    ">>> print(ctmc) "
   ]
  }
 ],
 "metadata": {
  "date": 1598178167.1853151,
  "filename": "building_ctmcs.rst",
  "kernelspec": {
   "display_name": "Python 3",
   "language": "python",
   "name": "python3"
  },
  "language_info": {
   "codemirror_mode": {
    "name": "ipython",
    "version": 3
   },
   "file_extension": ".py",
   "mimetype": "text/x-python",
   "name": "python",
   "nbconvert_exporter": "python",
   "pygments_lexer": "ipython3",
   "version": "3.10.4"
  },
  "title": "Continuous-time Markov chains (CTMCs)"
 },
 "nbformat": 4,
 "nbformat_minor": 4
}
