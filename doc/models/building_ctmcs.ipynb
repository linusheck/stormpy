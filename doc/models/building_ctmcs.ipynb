{
 "cells": [
  {
   "cell_type": "markdown",
   "metadata": {},
   "source": [
    "# Continuous-time Markov chains (CTMCs)"
   ]
  },
  {
   "cell_type": "markdown",
   "metadata": {},
   "source": [
    "## Background\n",
    "\n",
    "In this section, we explain how Stormpy can be used to build a simple CTMC.\n",
    "Building CTMCs works similar to building DTMCs as in [Discrete-time Markov chains (DTMCs)](building_dtmcs.ipynb), but additionally every state is equipped with an exit rate.\n",
    "\n",
    "[01-building-ctmcs.py](https://github.com/moves-rwth/stormpy/blob/master/examples/building_ctmcs/01-building-ctmcs.py)\n",
    "\n",
    "First, we import Stormpy:"
   ]
  },
  {
   "cell_type": "code",
   "execution_count": 1,
   "metadata": {
    "execution": {
     "iopub.execute_input": "2022-07-27T08:19:31.196293Z",
     "iopub.status.busy": "2022-07-27T08:19:31.195846Z",
     "iopub.status.idle": "2022-07-27T08:19:31.249823Z",
     "shell.execute_reply": "2022-07-27T08:19:31.249134Z"
    },
    "hide-output": false
   },
   "outputs": [],
   "source": [
    ">>> import stormpy"
   ]
  },
  {
   "cell_type": "markdown",
   "metadata": {},
   "source": [
    "## Transition Matrix\n",
    "\n",
    "In this example, we build the transition matrix using a numpy array"
   ]
  },
  {
   "cell_type": "code",
   "execution_count": 2,
   "metadata": {
    "execution": {
     "iopub.execute_input": "2022-07-27T08:19:31.253129Z",
     "iopub.status.busy": "2022-07-27T08:19:31.252913Z",
     "iopub.status.idle": "2022-07-27T08:19:31.304529Z",
     "shell.execute_reply": "2022-07-27T08:19:31.303991Z"
    }
   },
   "outputs": [],
   "source": [
    ">>> import numpy as np\n",
    ">>> transitions = np.array([\n",
    "...    [0, 1.5, 0, 0],\n",
    "...    [3, 0, 1.5, 0],\n",
    "...    [0, 3, 0, 1.5],\n",
    "...    [0, 0, 3, 0], ], dtype='float64')"
   ]
  },
  {
   "cell_type": "markdown",
   "metadata": {},
   "source": [
    "The following function call returns a sparse matrix with default row groups:"
   ]
  },
  {
   "cell_type": "code",
   "execution_count": 3,
   "metadata": {
    "execution": {
     "iopub.execute_input": "2022-07-27T08:19:31.309164Z",
     "iopub.status.busy": "2022-07-27T08:19:31.308052Z",
     "iopub.status.idle": "2022-07-27T08:19:31.313872Z",
     "shell.execute_reply": "2022-07-27T08:19:31.313384Z"
    },
    "hide-output": false
   },
   "outputs": [
    {
     "name": "stdout",
     "output_type": "stream",
     "text": [
      "\t\t0\t1\t2\t3\t\n",
      "\t---- group 0/3 ---- \n",
      "0\t(\t0\t1.5\t0\t0\t\t)\t0\n",
      "\t---- group 1/3 ---- \n",
      "1\t(\t3\t0\t1.5\t0\t\t)\t1\n",
      "\t---- group 2/3 ---- \n",
      "2\t(\t0\t3\t0\t1.5\t\t)\t2\n",
      "\t---- group 3/3 ---- \n",
      "3\t(\t0\t0\t3\t0\t\t)\t3\n",
      "\t\t0\t1\t2\t3\t\n",
      "\n"
     ]
    }
   ],
   "source": [
    ">>> transition_matrix = stormpy.build_sparse_matrix(transitions)\n",
    ">>> print(transition_matrix) "
   ]
  },
  {
   "cell_type": "markdown",
   "metadata": {},
   "source": [
    "## Labeling\n",
    "\n",
    "The state labeling is created analogously to the previous example in [building DTMCs](building_dtmcs.ipynb#labeling):"
   ]
  },
  {
   "cell_type": "code",
   "execution_count": 4,
   "metadata": {
    "execution": {
     "iopub.execute_input": "2022-07-27T08:19:31.317919Z",
     "iopub.status.busy": "2022-07-27T08:19:31.316908Z",
     "iopub.status.idle": "2022-07-27T08:19:31.321803Z",
     "shell.execute_reply": "2022-07-27T08:19:31.321317Z"
    },
    "hide-output": false
   },
   "outputs": [],
   "source": [
    ">>> state_labeling = stormpy.storage.StateLabeling(4)\n",
    ">>> state_labels = {'empty', 'init', 'deadlock', 'full'}\n",
    ">>> for label in state_labels:\n",
    "...    state_labeling.add_label(label)\n",
    ">>> state_labeling.add_label_to_state('init', 0)\n",
    ">>> state_labeling.add_label_to_state('empty', 0)\n",
    ">>> state_labeling.add_label_to_state('full', 3)"
   ]
  },
  {
   "cell_type": "markdown",
   "metadata": {},
   "source": [
    "## Exit Rates\n",
    "\n",
    "Lastly, we initialize a list to equip every state with an exit rate:"
   ]
  },
  {
   "cell_type": "code",
   "execution_count": 5,
   "metadata": {
    "execution": {
     "iopub.execute_input": "2022-07-27T08:19:31.325827Z",
     "iopub.status.busy": "2022-07-27T08:19:31.324819Z",
     "iopub.status.idle": "2022-07-27T08:19:31.328881Z",
     "shell.execute_reply": "2022-07-27T08:19:31.328403Z"
    },
    "hide-output": false
   },
   "outputs": [],
   "source": [
    ">>> exit_rates = [1.5, 4.5, 4.5, 3.0]"
   ]
  },
  {
   "cell_type": "markdown",
   "metadata": {},
   "source": [
    "## Building the Model\n",
    "\n",
    "Now, we can collect all components, including the choice labeling and the exit rates.\n",
    "To let the transition values be interpreted as rates we set rate_transitions to True:"
   ]
  },
  {
   "cell_type": "code",
   "execution_count": 6,
   "metadata": {
    "execution": {
     "iopub.execute_input": "2022-07-27T08:19:31.332813Z",
     "iopub.status.busy": "2022-07-27T08:19:31.331806Z",
     "iopub.status.idle": "2022-07-27T08:19:31.335985Z",
     "shell.execute_reply": "2022-07-27T08:19:31.335506Z"
    },
    "hide-output": false
   },
   "outputs": [],
   "source": [
    ">>> components = stormpy.SparseModelComponents(transition_matrix=transition_matrix, state_labeling=state_labeling, rate_transitions=True)\n",
    ">>> components.exit_rates = exit_rates"
   ]
  },
  {
   "cell_type": "markdown",
   "metadata": {},
   "source": [
    "And finally, we can build the model:"
   ]
  },
  {
   "cell_type": "code",
   "execution_count": 7,
   "metadata": {
    "execution": {
     "iopub.execute_input": "2022-07-27T08:19:31.339883Z",
     "iopub.status.busy": "2022-07-27T08:19:31.338877Z",
     "iopub.status.idle": "2022-07-27T08:19:31.344267Z",
     "shell.execute_reply": "2022-07-27T08:19:31.343787Z"
    },
    "hide-output": false
   },
   "outputs": [
    {
     "name": "stdout",
     "output_type": "stream",
     "text": [
      "-------------------------------------------------------------- \n",
      "Model type: \tCTMC (sparse)\n",
      "States: \t4\n",
      "Transitions: \t6\n",
      "Reward Models:  none\n",
      "State Labels: \t4 labels\n",
      "   * init -> 1 item(s)\n",
      "   * deadlock -> 0 item(s)\n",
      "   * empty -> 1 item(s)\n",
      "   * full -> 1 item(s)\n",
      "Choice Labels: \tnone\n",
      "-------------------------------------------------------------- \n",
      "\n"
     ]
    }
   ],
   "source": [
    ">>> ctmc = stormpy.storage.SparseCtmc(components)\n",
    ">>> print(ctmc) "
   ]
  }
 ],
 "metadata": {
  "date": 1598178167.1853151,
  "filename": "building_ctmcs.rst",
  "kernelspec": {
   "display_name": "Python 3",
   "language": "python",
   "name": "python3"
  },
  "language_info": {
   "codemirror_mode": {
    "name": "ipython",
    "version": 3
   },
   "file_extension": ".py",
   "mimetype": "text/x-python",
   "name": "python",
   "nbconvert_exporter": "python",
   "pygments_lexer": "ipython3",
   "version": "3.10.4"
  },
  "title": "Continuous-time Markov chains (CTMCs)"
 },
 "nbformat": 4,
 "nbformat_minor": 4
}
