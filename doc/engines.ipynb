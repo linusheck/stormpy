{
 "cells": [
  {
   "cell_type": "markdown",
   "metadata": {},
   "source": [
    "# Engines"
   ]
  },
  {
   "cell_type": "markdown",
   "metadata": {},
   "source": [
    "## Background\n",
    "\n",
    "Storm supports different engines for building and checking a model. A detailed comparison of the different engines provided in Storm can be found on the [Storm website](https://www.stormchecker.org/documentation/usage/engines.html)."
   ]
  },
  {
   "cell_type": "markdown",
   "metadata": {},
   "source": [
    "## Sparse engine\n",
    "\n",
    "In all of the examples so far we used the default sparse engine:"
   ]
  },
  {
   "cell_type": "code",
   "execution_count": 1,
   "metadata": {
    "execution": {
     "iopub.execute_input": "2022-07-27T14:14:34.047915Z",
     "iopub.status.busy": "2022-07-27T14:14:34.047593Z",
     "iopub.status.idle": "2022-07-27T14:14:34.137737Z",
     "shell.execute_reply": "2022-07-27T14:14:34.136874Z"
    }
   },
   "outputs": [
    {
     "name": "stdout",
     "output_type": "stream",
     "text": [
      "<class 'stormpy.storage.storage.SparseDtmc'>\n"
     ]
    }
   ],
   "source": [
    ">>> import stormpy.examples\n",
    ">>> import stormpy.examples.files\n",
    ">>> prism_program = stormpy.parse_prism_program(stormpy.examples.files.prism_dtmc_die)\n",
    ">>> properties = stormpy.parse_properties('P=? [F \"one\"]', prism_program)\n",
    ">>> sparse_model = stormpy.build_sparse_model(prism_program, properties)\n",
    ">>> print(type(sparse_model))\n"
   ]
  },
  {
   "cell_type": "code",
   "execution_count": 2,
   "metadata": {
    "execution": {
     "iopub.execute_input": "2022-07-27T14:14:34.141542Z",
     "iopub.status.busy": "2022-07-27T14:14:34.141296Z",
     "iopub.status.idle": "2022-07-27T14:14:34.145197Z",
     "shell.execute_reply": "2022-07-27T14:14:34.144386Z"
    }
   },
   "outputs": [
    {
     "name": "stdout",
     "output_type": "stream",
     "text": [
      "Number of states: 13\n"
     ]
    }
   ],
   "source": [
    ">>> print(\"Number of states: {}\".format(sparse_model.nr_states))\n",
    "\n"
   ]
  },
  {
   "cell_type": "code",
   "execution_count": 3,
   "metadata": {
    "execution": {
     "iopub.execute_input": "2022-07-27T14:14:34.149199Z",
     "iopub.status.busy": "2022-07-27T14:14:34.148952Z",
     "iopub.status.idle": "2022-07-27T14:14:34.153112Z",
     "shell.execute_reply": "2022-07-27T14:14:34.152341Z"
    }
   },
   "outputs": [
    {
     "name": "stdout",
     "output_type": "stream",
     "text": [
      "Number of transitions: 20\n"
     ]
    }
   ],
   "source": [
    ">>> print(\"Number of transitions: {}\".format(sparse_model.nr_transitions))"
   ]
  },
  {
   "cell_type": "code",
   "execution_count": 4,
   "metadata": {
    "execution": {
     "iopub.execute_input": "2022-07-27T14:14:34.156996Z",
     "iopub.status.busy": "2022-07-27T14:14:34.156746Z",
     "iopub.status.idle": "2022-07-27T14:14:34.161254Z",
     "shell.execute_reply": "2022-07-27T14:14:34.160352Z"
    }
   },
   "outputs": [
    {
     "name": "stdout",
     "output_type": "stream",
     "text": [
      "0.16666666666666666\n"
     ]
    }
   ],
   "source": [
    ">>> sparse_result = stormpy.check_model_sparse(sparse_model, properties[0])\n",
    ">>> initial_state = sparse_model.initial_states[0]\n",
    ">>> print(sparse_result.at(initial_state))"
   ]
  },
  {
   "cell_type": "markdown",
   "metadata": {},
   "source": [
    "## Symbolic engine\n",
    "\n",
    "Instead of using the sparse engine, one can also use a symbolic representation in terms of binary decision diagrams (BDDs).\n",
    "To use the symbolic (dd) engine, we use the symbolic versions for the building and model checking:\n"
   ]
  },
  {
   "cell_type": "code",
   "execution_count": 5,
   "metadata": {
    "execution": {
     "iopub.execute_input": "2022-07-27T14:14:34.165544Z",
     "iopub.status.busy": "2022-07-27T14:14:34.165308Z",
     "iopub.status.idle": "2022-07-27T14:14:34.566341Z",
     "shell.execute_reply": "2022-07-27T14:14:34.565560Z"
    }
   },
   "outputs": [
    {
     "name": "stdout",
     "output_type": "stream",
     "text": [
      "<class 'stormpy.storage.storage.SymbolicSylvanDtmc'>\n"
     ]
    }
   ],
   "source": [
    ">>> symbolic_model = stormpy.build_symbolic_model(prism_program, properties)\n",
    ">>> print(type(symbolic_model))"
   ]
  },
  {
   "cell_type": "code",
   "execution_count": 6,
   "metadata": {
    "execution": {
     "iopub.execute_input": "2022-07-27T14:14:34.569542Z",
     "iopub.status.busy": "2022-07-27T14:14:34.569098Z",
     "iopub.status.idle": "2022-07-27T14:14:34.573556Z",
     "shell.execute_reply": "2022-07-27T14:14:34.572928Z"
    }
   },
   "outputs": [
    {
     "name": "stdout",
     "output_type": "stream",
     "text": [
      "Number of states: 13\n"
     ]
    }
   ],
   "source": [
    ">>> print(\"Number of states: {}\".format(symbolic_model.nr_states))"
   ]
  },
  {
   "cell_type": "code",
   "execution_count": 7,
   "metadata": {
    "execution": {
     "iopub.execute_input": "2022-07-27T14:14:34.576617Z",
     "iopub.status.busy": "2022-07-27T14:14:34.576187Z",
     "iopub.status.idle": "2022-07-27T14:14:34.582545Z",
     "shell.execute_reply": "2022-07-27T14:14:34.581912Z"
    }
   },
   "outputs": [
    {
     "name": "stdout",
     "output_type": "stream",
     "text": [
      "Number of transitions: 20\n"
     ]
    }
   ],
   "source": [
    ">>> print(\"Number of transitions: {}\".format(symbolic_model.nr_transitions))"
   ]
  },
  {
   "cell_type": "code",
   "execution_count": 8,
   "metadata": {
    "execution": {
     "iopub.execute_input": "2022-07-27T14:14:34.585890Z",
     "iopub.status.busy": "2022-07-27T14:14:34.585297Z",
     "iopub.status.idle": "2022-07-27T14:14:34.608768Z",
     "shell.execute_reply": "2022-07-27T14:14:34.608129Z"
    }
   },
   "outputs": [
    {
     "name": "stdout",
     "output_type": "stream",
     "text": [
      "[0, 1] (range)\n"
     ]
    }
   ],
   "source": [
    ">>> symbolic_result = stormpy.check_model_dd(symbolic_model, properties[0])\n",
    ">>> print(symbolic_result)"
   ]
  },
  {
   "cell_type": "markdown",
   "metadata": {},
   "source": [
    "We can also filter the computed results and only consider the initial states:"
   ]
  },
  {
   "cell_type": "code",
   "execution_count": 9,
   "metadata": {
    "execution": {
     "iopub.execute_input": "2022-07-27T14:14:34.613284Z",
     "iopub.status.busy": "2022-07-27T14:14:34.612175Z",
     "iopub.status.idle": "2022-07-27T14:14:34.618738Z",
     "shell.execute_reply": "2022-07-27T14:14:34.618100Z"
    }
   },
   "outputs": [
    {
     "name": "stdout",
     "output_type": "stream",
     "text": [
      "0.16666650772094727\n"
     ]
    }
   ],
   "source": [
    ">>> filter = stormpy.create_filter_initial_states_symbolic(symbolic_model)\n",
    ">>> symbolic_result.filter(filter)\n",
    ">>> print(symbolic_result.min)"
   ]
  },
  {
   "cell_type": "markdown",
   "metadata": {},
   "source": [
    "It is also possible to first build the model symbolically and then transform it into a sparse model:"
   ]
  },
  {
   "cell_type": "code",
   "execution_count": 10,
   "metadata": {
    "execution": {
     "iopub.execute_input": "2022-07-27T14:14:34.623217Z",
     "iopub.status.busy": "2022-07-27T14:14:34.622110Z",
     "iopub.status.idle": "2022-07-27T14:14:34.628111Z",
     "shell.execute_reply": "2022-07-27T14:14:34.627496Z"
    }
   },
   "outputs": [
    {
     "name": "stdout",
     "output_type": "stream",
     "text": [
      "<class 'stormpy.storage.storage.SymbolicSylvanDtmc'>\n"
     ]
    }
   ],
   "source": [
    ">>> print(type(symbolic_model))"
   ]
  },
  {
   "cell_type": "code",
   "execution_count": 11,
   "metadata": {
    "execution": {
     "iopub.execute_input": "2022-07-27T14:14:34.632327Z",
     "iopub.status.busy": "2022-07-27T14:14:34.631236Z",
     "iopub.status.idle": "2022-07-27T14:14:34.640524Z",
     "shell.execute_reply": "2022-07-27T14:14:34.639825Z"
    }
   },
   "outputs": [
    {
     "name": "stdout",
     "output_type": "stream",
     "text": [
      "<class 'stormpy.storage.storage.SparseDtmc'>\n"
     ]
    }
   ],
   "source": [
    ">>> transformed_model = stormpy.transform_to_sparse_model(symbolic_model)\n",
    ">>> print(type(transformed_model))"
   ]
  },
  {
   "cell_type": "markdown",
   "metadata": {},
   "source": [
    "## Hybrid engine\n",
    "\n",
    "A third possibility is to use the hybrid engine, a combination of sparse and dd engines.\n",
    "It first builds the model symbolically.\n",
    "The actual model checking is then performed with the engine which is deemed most suitable for the given task.\n"
   ]
  },
  {
   "cell_type": "code",
   "execution_count": 12,
   "metadata": {
    "execution": {
     "iopub.execute_input": "2022-07-27T14:14:34.644893Z",
     "iopub.status.busy": "2022-07-27T14:14:34.643805Z",
     "iopub.status.idle": "2022-07-27T14:14:34.650030Z",
     "shell.execute_reply": "2022-07-27T14:14:34.649398Z"
    }
   },
   "outputs": [
    {
     "name": "stdout",
     "output_type": "stream",
     "text": [
      "<class 'stormpy.storage.storage.SymbolicSylvanDtmc'>\n"
     ]
    }
   ],
   "source": [
    ">>> print(type(symbolic_model))"
   ]
  },
  {
   "cell_type": "code",
   "execution_count": 13,
   "metadata": {
    "execution": {
     "iopub.execute_input": "2022-07-27T14:14:34.654715Z",
     "iopub.status.busy": "2022-07-27T14:14:34.653472Z",
     "iopub.status.idle": "2022-07-27T14:14:34.661054Z",
     "shell.execute_reply": "2022-07-27T14:14:34.660362Z"
    }
   },
   "outputs": [
    {
     "name": "stdout",
     "output_type": "stream",
     "text": [
      "0.166667\n"
     ]
    }
   ],
   "source": [
    ">>> hybrid_result = stormpy.check_model_hybrid(symbolic_model, properties[0])\n",
    ">>> filter = stormpy.create_filter_initial_states_symbolic(symbolic_model)\n",
    ">>> hybrid_result.filter(filter)\n",
    ">>> print(hybrid_result)"
   ]
  }
 ],
 "metadata": {
  "date": 1598178167.148,
  "filename": "engines.rst",
  "kernelspec": {
   "display_name": "Python 3",
   "language": "python",
   "name": "python3"
  },
  "language_info": {
   "codemirror_mode": {
    "name": "ipython",
    "version": 3
   },
   "file_extension": ".py",
   "mimetype": "text/x-python",
   "name": "python",
   "nbconvert_exporter": "python",
   "pygments_lexer": "ipython3",
   "version": "3.10.4"
  },
  "title": "Engines"
 },
 "nbformat": 4,
 "nbformat_minor": 4
}
