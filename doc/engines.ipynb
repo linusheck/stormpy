{
 "cells": [
  {
   "cell_type": "markdown",
   "metadata": {},
   "source": [
    "# Engines"
   ]
  },
  {
   "cell_type": "markdown",
   "metadata": {},
   "source": [
    "## Background\n",
    "\n",
    "Storm supports different engines for building and checking a model. A detailed comparison of the different engines provided in Storm can be found on the [Storm website](https://www.stormchecker.org/documentation/usage/engines.html)."
   ]
  },
  {
   "cell_type": "markdown",
   "metadata": {},
   "source": [
    "## Sparse engine\n",
    "\n",
    "In all of the examples so far we used the default sparse engine:"
   ]
  },
  {
   "cell_type": "code",
   "execution_count": 1,
   "metadata": {
    "execution": {
     "iopub.execute_input": "2023-12-18T16:13:34.114721Z",
     "iopub.status.busy": "2023-12-18T16:13:34.114104Z",
     "iopub.status.idle": "2023-12-18T16:13:34.172902Z",
     "shell.execute_reply": "2023-12-18T16:13:34.172352Z"
    }
   },
   "outputs": [
    {
     "name": "stdout",
     "output_type": "stream",
     "text": [
      "<class 'stormpy.storage.storage.SparseDtmc'>\n"
     ]
    }
   ],
   "source": [
    ">>> import stormpy.examples\n",
    ">>> import stormpy.examples.files\n",
    ">>> prism_program = stormpy.parse_prism_program(stormpy.examples.files.prism_dtmc_die)\n",
    ">>> properties = stormpy.parse_properties('P=? [F \"one\"]', prism_program)\n",
    ">>> sparse_model = stormpy.build_sparse_model(prism_program, properties)\n",
    ">>> print(type(sparse_model))\n"
   ]
  },
  {
   "cell_type": "code",
   "execution_count": 2,
   "metadata": {
    "execution": {
     "iopub.execute_input": "2023-12-18T16:13:34.175345Z",
     "iopub.status.busy": "2023-12-18T16:13:34.174911Z",
     "iopub.status.idle": "2023-12-18T16:13:34.178132Z",
     "shell.execute_reply": "2023-12-18T16:13:34.177594Z"
    }
   },
   "outputs": [
    {
     "name": "stdout",
     "output_type": "stream",
     "text": [
      "Number of states: 13\n"
     ]
    }
   ],
   "source": [
    ">>> print(\"Number of states: {}\".format(sparse_model.nr_states))\n",
    "\n"
   ]
  },
  {
   "cell_type": "code",
   "execution_count": 3,
   "metadata": {
    "execution": {
     "iopub.execute_input": "2023-12-18T16:13:34.180292Z",
     "iopub.status.busy": "2023-12-18T16:13:34.179951Z",
     "iopub.status.idle": "2023-12-18T16:13:34.182804Z",
     "shell.execute_reply": "2023-12-18T16:13:34.182218Z"
    }
   },
   "outputs": [
    {
     "name": "stdout",
     "output_type": "stream",
     "text": [
      "Number of transitions: 20\n"
     ]
    }
   ],
   "source": [
    ">>> print(\"Number of transitions: {}\".format(sparse_model.nr_transitions))"
   ]
  },
  {
   "cell_type": "code",
   "execution_count": 4,
   "metadata": {
    "execution": {
     "iopub.execute_input": "2023-12-18T16:13:34.185044Z",
     "iopub.status.busy": "2023-12-18T16:13:34.184693Z",
     "iopub.status.idle": "2023-12-18T16:13:34.187891Z",
     "shell.execute_reply": "2023-12-18T16:13:34.187336Z"
    }
   },
   "outputs": [
    {
     "name": "stdout",
     "output_type": "stream",
     "text": [
      "0.16666666666666666\n"
     ]
    }
   ],
   "source": [
    ">>> sparse_result = stormpy.check_model_sparse(sparse_model, properties[0])\n",
    ">>> initial_state = sparse_model.initial_states[0]\n",
    ">>> print(sparse_result.at(initial_state))"
   ]
  },
  {
   "cell_type": "markdown",
   "metadata": {},
   "source": [
    "## Symbolic engine\n",
    "\n",
    "Instead of using the sparse engine, one can also use a symbolic representation in terms of binary decision diagrams (BDDs).\n",
    "To use the symbolic (dd) engine, we use the symbolic versions for the building and model checking:\n"
   ]
  },
  {
   "cell_type": "code",
   "execution_count": 5,
   "metadata": {
    "execution": {
     "iopub.execute_input": "2023-12-18T16:13:34.190155Z",
     "iopub.status.busy": "2023-12-18T16:13:34.189810Z",
     "iopub.status.idle": "2023-12-18T16:13:34.368947Z",
     "shell.execute_reply": "2023-12-18T16:13:34.368254Z"
    }
   },
   "outputs": [
    {
     "name": "stdout",
     "output_type": "stream",
     "text": [
      "<class 'stormpy.storage.storage.SymbolicSylvanDtmc'>\n"
     ]
    }
   ],
   "source": [
    ">>> symbolic_model = stormpy.build_symbolic_model(prism_program, properties)\n",
    ">>> print(type(symbolic_model))"
   ]
  },
  {
   "cell_type": "code",
   "execution_count": 6,
   "metadata": {
    "execution": {
     "iopub.execute_input": "2023-12-18T16:13:34.371618Z",
     "iopub.status.busy": "2023-12-18T16:13:34.371335Z",
     "iopub.status.idle": "2023-12-18T16:13:34.375085Z",
     "shell.execute_reply": "2023-12-18T16:13:34.374470Z"
    }
   },
   "outputs": [
    {
     "name": "stdout",
     "output_type": "stream",
     "text": [
      "Number of states: 13\n"
     ]
    }
   ],
   "source": [
    ">>> print(\"Number of states: {}\".format(symbolic_model.nr_states))"
   ]
  },
  {
   "cell_type": "code",
   "execution_count": 7,
   "metadata": {
    "execution": {
     "iopub.execute_input": "2023-12-18T16:13:34.377510Z",
     "iopub.status.busy": "2023-12-18T16:13:34.377264Z",
     "iopub.status.idle": "2023-12-18T16:13:34.380987Z",
     "shell.execute_reply": "2023-12-18T16:13:34.380486Z"
    }
   },
   "outputs": [
    {
     "name": "stdout",
     "output_type": "stream",
     "text": [
      "Number of transitions: 20\n"
     ]
    }
   ],
   "source": [
    ">>> print(\"Number of transitions: {}\".format(symbolic_model.nr_transitions))"
   ]
  },
  {
   "cell_type": "code",
   "execution_count": 8,
   "metadata": {
    "execution": {
     "iopub.execute_input": "2023-12-18T16:13:34.383216Z",
     "iopub.status.busy": "2023-12-18T16:13:34.382972Z",
     "iopub.status.idle": "2023-12-18T16:13:34.410684Z",
     "shell.execute_reply": "2023-12-18T16:13:34.410158Z"
    }
   },
   "outputs": [
    {
     "name": "stdout",
     "output_type": "stream",
     "text": [
      "[0, 1] (range)\n"
     ]
    }
   ],
   "source": [
    ">>> symbolic_result = stormpy.check_model_dd(symbolic_model, properties[0])\n",
    ">>> print(symbolic_result)"
   ]
  },
  {
   "cell_type": "markdown",
   "metadata": {},
   "source": [
    "We can also filter the computed results and only consider the initial states:"
   ]
  },
  {
   "cell_type": "code",
   "execution_count": 9,
   "metadata": {
    "execution": {
     "iopub.execute_input": "2023-12-18T16:13:34.413179Z",
     "iopub.status.busy": "2023-12-18T16:13:34.412922Z",
     "iopub.status.idle": "2023-12-18T16:13:34.416428Z",
     "shell.execute_reply": "2023-12-18T16:13:34.415801Z"
    }
   },
   "outputs": [
    {
     "name": "stdout",
     "output_type": "stream",
     "text": [
      "0.16666650772094727\n"
     ]
    }
   ],
   "source": [
    ">>> filter = stormpy.create_filter_initial_states_symbolic(symbolic_model)\n",
    ">>> symbolic_result.filter(filter)\n",
    ">>> print(symbolic_result.min)"
   ]
  },
  {
   "cell_type": "markdown",
   "metadata": {},
   "source": [
    "It is also possible to first build the model symbolically and then transform it into a sparse model:"
   ]
  },
  {
   "cell_type": "code",
   "execution_count": 10,
   "metadata": {
    "execution": {
     "iopub.execute_input": "2023-12-18T16:13:34.418700Z",
     "iopub.status.busy": "2023-12-18T16:13:34.418461Z",
     "iopub.status.idle": "2023-12-18T16:13:34.421697Z",
     "shell.execute_reply": "2023-12-18T16:13:34.421103Z"
    }
   },
   "outputs": [
    {
     "name": "stdout",
     "output_type": "stream",
     "text": [
      "<class 'stormpy.storage.storage.SymbolicSylvanDtmc'>\n"
     ]
    }
   ],
   "source": [
    ">>> print(type(symbolic_model))"
   ]
  },
  {
   "cell_type": "code",
   "execution_count": 11,
   "metadata": {
    "execution": {
     "iopub.execute_input": "2023-12-18T16:13:34.424035Z",
     "iopub.status.busy": "2023-12-18T16:13:34.423775Z",
     "iopub.status.idle": "2023-12-18T16:13:34.431318Z",
     "shell.execute_reply": "2023-12-18T16:13:34.430718Z"
    }
   },
   "outputs": [
    {
     "name": "stdout",
     "output_type": "stream",
     "text": [
      "<class 'stormpy.storage.storage.SparseDtmc'>\n"
     ]
    }
   ],
   "source": [
    ">>> transformed_model = stormpy.transform_to_sparse_model(symbolic_model)\n",
    ">>> print(type(transformed_model))"
   ]
  },
  {
   "cell_type": "markdown",
   "metadata": {},
   "source": [
    "## Hybrid engine\n",
    "\n",
    "A third possibility is to use the hybrid engine, a combination of sparse and dd engines.\n",
    "It first builds the model symbolically.\n",
    "The actual model checking is then performed with the engine which is deemed most suitable for the given task.\n"
   ]
  },
  {
   "cell_type": "code",
   "execution_count": 12,
   "metadata": {
    "execution": {
     "iopub.execute_input": "2023-12-18T16:13:34.433695Z",
     "iopub.status.busy": "2023-12-18T16:13:34.433449Z",
     "iopub.status.idle": "2023-12-18T16:13:34.436738Z",
     "shell.execute_reply": "2023-12-18T16:13:34.436123Z"
    }
   },
   "outputs": [
    {
     "name": "stdout",
     "output_type": "stream",
     "text": [
      "<class 'stormpy.storage.storage.SymbolicSylvanDtmc'>\n"
     ]
    }
   ],
   "source": [
    ">>> print(type(symbolic_model))"
   ]
  },
  {
   "cell_type": "code",
   "execution_count": 13,
   "metadata": {
    "execution": {
     "iopub.execute_input": "2023-12-18T16:13:34.439051Z",
     "iopub.status.busy": "2023-12-18T16:13:34.438794Z",
     "iopub.status.idle": "2023-12-18T16:13:34.443534Z",
     "shell.execute_reply": "2023-12-18T16:13:34.442925Z"
    }
   },
   "outputs": [
    {
     "name": "stdout",
     "output_type": "stream",
     "text": [
      "0.166667\n"
     ]
    }
   ],
   "source": [
    ">>> hybrid_result = stormpy.check_model_hybrid(symbolic_model, properties[0])\n",
    ">>> filter = stormpy.create_filter_initial_states_symbolic(symbolic_model)\n",
    ">>> hybrid_result.filter(filter)\n",
    ">>> print(hybrid_result)"
   ]
  }
 ],
 "metadata": {
  "date": 1598178167.148,
  "filename": "engines.rst",
  "kernelspec": {
   "display_name": "Python 3",
   "language": "python",
   "name": "python3"
  },
  "language_info": {
   "codemirror_mode": {
    "name": "ipython",
    "version": 3
   },
   "file_extension": ".py",
   "mimetype": "text/x-python",
   "name": "python",
   "nbconvert_exporter": "python",
   "pygments_lexer": "ipython3",
   "version": "3.10.12"
  },
  "title": "Engines"
 },
 "nbformat": 4,
 "nbformat_minor": 4
}
