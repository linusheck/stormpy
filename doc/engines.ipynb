{
 "cells": [
  {
   "cell_type": "markdown",
   "metadata": {},
   "source": [
    "# Engines"
   ]
  },
  {
   "cell_type": "markdown",
   "metadata": {},
   "source": [
    "## Background\n",
    "\n",
    "Storm supports different engines for building and checking a model. A detailed comparison of the different engines provided in Storm can be found on the [Storm website](https://www.stormchecker.org/documentation/usage/engines.html)."
   ]
  },
  {
   "cell_type": "markdown",
   "metadata": {},
   "source": [
    "## Sparse engine\n",
    "\n",
    "In all of the examples so far we used the default sparse engine:"
   ]
  },
  {
   "cell_type": "code",
   "execution_count": 1,
   "metadata": {
    "execution": {
     "iopub.execute_input": "2022-11-16T12:56:58.955048Z",
     "iopub.status.busy": "2022-11-16T12:56:58.954671Z",
     "iopub.status.idle": "2022-11-16T12:56:59.029128Z",
     "shell.execute_reply": "2022-11-16T12:56:59.028459Z"
    }
   },
   "outputs": [
    {
     "name": "stdout",
     "output_type": "stream",
     "text": [
      "<class 'stormpy.storage.storage.SparseDtmc'>\n"
     ]
    }
   ],
   "source": [
    ">>> import stormpy.examples\n",
    ">>> import stormpy.examples.files\n",
    ">>> prism_program = stormpy.parse_prism_program(stormpy.examples.files.prism_dtmc_die)\n",
    ">>> properties = stormpy.parse_properties('P=? [F \"one\"]', prism_program)\n",
    ">>> sparse_model = stormpy.build_sparse_model(prism_program, properties)\n",
    ">>> print(type(sparse_model))\n"
   ]
  },
  {
   "cell_type": "code",
   "execution_count": 2,
   "metadata": {
    "execution": {
     "iopub.execute_input": "2022-11-16T12:56:59.031912Z",
     "iopub.status.busy": "2022-11-16T12:56:59.031698Z",
     "iopub.status.idle": "2022-11-16T12:56:59.034816Z",
     "shell.execute_reply": "2022-11-16T12:56:59.034243Z"
    }
   },
   "outputs": [
    {
     "name": "stdout",
     "output_type": "stream",
     "text": [
      "Number of states: 13\n"
     ]
    }
   ],
   "source": [
    ">>> print(\"Number of states: {}\".format(sparse_model.nr_states))\n",
    "\n"
   ]
  },
  {
   "cell_type": "code",
   "execution_count": 3,
   "metadata": {
    "execution": {
     "iopub.execute_input": "2022-11-16T12:56:59.037954Z",
     "iopub.status.busy": "2022-11-16T12:56:59.037755Z",
     "iopub.status.idle": "2022-11-16T12:56:59.040946Z",
     "shell.execute_reply": "2022-11-16T12:56:59.040362Z"
    }
   },
   "outputs": [
    {
     "name": "stdout",
     "output_type": "stream",
     "text": [
      "Number of transitions: 20\n"
     ]
    }
   ],
   "source": [
    ">>> print(\"Number of transitions: {}\".format(sparse_model.nr_transitions))"
   ]
  },
  {
   "cell_type": "code",
   "execution_count": 4,
   "metadata": {
    "execution": {
     "iopub.execute_input": "2022-11-16T12:56:59.043817Z",
     "iopub.status.busy": "2022-11-16T12:56:59.043623Z",
     "iopub.status.idle": "2022-11-16T12:56:59.047137Z",
     "shell.execute_reply": "2022-11-16T12:56:59.046574Z"
    }
   },
   "outputs": [
    {
     "name": "stdout",
     "output_type": "stream",
     "text": [
      "0.16666666666666666\n"
     ]
    }
   ],
   "source": [
    ">>> sparse_result = stormpy.check_model_sparse(sparse_model, properties[0])\n",
    ">>> initial_state = sparse_model.initial_states[0]\n",
    ">>> print(sparse_result.at(initial_state))"
   ]
  },
  {
   "cell_type": "markdown",
   "metadata": {},
   "source": [
    "## Symbolic engine\n",
    "\n",
    "Instead of using the sparse engine, one can also use a symbolic representation in terms of binary decision diagrams (BDDs).\n",
    "To use the symbolic (dd) engine, we use the symbolic versions for the building and model checking:\n"
   ]
  },
  {
   "cell_type": "code",
   "execution_count": 5,
   "metadata": {
    "execution": {
     "iopub.execute_input": "2022-11-16T12:56:59.050174Z",
     "iopub.status.busy": "2022-11-16T12:56:59.049981Z",
     "iopub.status.idle": "2022-11-16T12:56:59.368482Z",
     "shell.execute_reply": "2022-11-16T12:56:59.367988Z"
    }
   },
   "outputs": [
    {
     "name": "stdout",
     "output_type": "stream",
     "text": [
      "<class 'stormpy.storage.storage.SymbolicSylvanDtmc'>\n"
     ]
    }
   ],
   "source": [
    ">>> symbolic_model = stormpy.build_symbolic_model(prism_program, properties)\n",
    ">>> print(type(symbolic_model))"
   ]
  },
  {
   "cell_type": "code",
   "execution_count": 6,
   "metadata": {
    "execution": {
     "iopub.execute_input": "2022-11-16T12:56:59.371245Z",
     "iopub.status.busy": "2022-11-16T12:56:59.370851Z",
     "iopub.status.idle": "2022-11-16T12:56:59.374161Z",
     "shell.execute_reply": "2022-11-16T12:56:59.373725Z"
    }
   },
   "outputs": [
    {
     "name": "stdout",
     "output_type": "stream",
     "text": [
      "Number of states: 13\n"
     ]
    }
   ],
   "source": [
    ">>> print(\"Number of states: {}\".format(symbolic_model.nr_states))"
   ]
  },
  {
   "cell_type": "code",
   "execution_count": 7,
   "metadata": {
    "execution": {
     "iopub.execute_input": "2022-11-16T12:56:59.376579Z",
     "iopub.status.busy": "2022-11-16T12:56:59.376233Z",
     "iopub.status.idle": "2022-11-16T12:56:59.380884Z",
     "shell.execute_reply": "2022-11-16T12:56:59.380362Z"
    }
   },
   "outputs": [
    {
     "name": "stdout",
     "output_type": "stream",
     "text": [
      "Number of transitions: 20\n"
     ]
    }
   ],
   "source": [
    ">>> print(\"Number of transitions: {}\".format(symbolic_model.nr_transitions))"
   ]
  },
  {
   "cell_type": "code",
   "execution_count": 8,
   "metadata": {
    "execution": {
     "iopub.execute_input": "2022-11-16T12:56:59.383820Z",
     "iopub.status.busy": "2022-11-16T12:56:59.383450Z",
     "iopub.status.idle": "2022-11-16T12:56:59.401903Z",
     "shell.execute_reply": "2022-11-16T12:56:59.401456Z"
    }
   },
   "outputs": [
    {
     "name": "stdout",
     "output_type": "stream",
     "text": [
      "[0, 1] (range)\n"
     ]
    }
   ],
   "source": [
    ">>> symbolic_result = stormpy.check_model_dd(symbolic_model, properties[0])\n",
    ">>> print(symbolic_result)"
   ]
  },
  {
   "cell_type": "markdown",
   "metadata": {},
   "source": [
    "We can also filter the computed results and only consider the initial states:"
   ]
  },
  {
   "cell_type": "code",
   "execution_count": 9,
   "metadata": {
    "execution": {
     "iopub.execute_input": "2022-11-16T12:56:59.405793Z",
     "iopub.status.busy": "2022-11-16T12:56:59.404788Z",
     "iopub.status.idle": "2022-11-16T12:56:59.410318Z",
     "shell.execute_reply": "2022-11-16T12:56:59.409868Z"
    }
   },
   "outputs": [
    {
     "name": "stdout",
     "output_type": "stream",
     "text": [
      "0.16666650772094727\n"
     ]
    }
   ],
   "source": [
    ">>> filter = stormpy.create_filter_initial_states_symbolic(symbolic_model)\n",
    ">>> symbolic_result.filter(filter)\n",
    ">>> print(symbolic_result.min)"
   ]
  },
  {
   "cell_type": "markdown",
   "metadata": {},
   "source": [
    "It is also possible to first build the model symbolically and then transform it into a sparse model:"
   ]
  },
  {
   "cell_type": "code",
   "execution_count": 10,
   "metadata": {
    "execution": {
     "iopub.execute_input": "2022-11-16T12:56:59.414207Z",
     "iopub.status.busy": "2022-11-16T12:56:59.413219Z",
     "iopub.status.idle": "2022-11-16T12:56:59.418269Z",
     "shell.execute_reply": "2022-11-16T12:56:59.417815Z"
    }
   },
   "outputs": [
    {
     "name": "stdout",
     "output_type": "stream",
     "text": [
      "<class 'stormpy.storage.storage.SymbolicSylvanDtmc'>\n"
     ]
    }
   ],
   "source": [
    ">>> print(type(symbolic_model))"
   ]
  },
  {
   "cell_type": "code",
   "execution_count": 11,
   "metadata": {
    "execution": {
     "iopub.execute_input": "2022-11-16T12:56:59.422034Z",
     "iopub.status.busy": "2022-11-16T12:56:59.421047Z",
     "iopub.status.idle": "2022-11-16T12:56:59.428430Z",
     "shell.execute_reply": "2022-11-16T12:56:59.427980Z"
    }
   },
   "outputs": [
    {
     "name": "stdout",
     "output_type": "stream",
     "text": [
      "<class 'stormpy.storage.storage.SparseDtmc'>\n"
     ]
    }
   ],
   "source": [
    ">>> transformed_model = stormpy.transform_to_sparse_model(symbolic_model)\n",
    ">>> print(type(transformed_model))"
   ]
  },
  {
   "cell_type": "markdown",
   "metadata": {},
   "source": [
    "## Hybrid engine\n",
    "\n",
    "A third possibility is to use the hybrid engine, a combination of sparse and dd engines.\n",
    "It first builds the model symbolically.\n",
    "The actual model checking is then performed with the engine which is deemed most suitable for the given task.\n"
   ]
  },
  {
   "cell_type": "code",
   "execution_count": 12,
   "metadata": {
    "execution": {
     "iopub.execute_input": "2022-11-16T12:56:59.432326Z",
     "iopub.status.busy": "2022-11-16T12:56:59.431310Z",
     "iopub.status.idle": "2022-11-16T12:56:59.436372Z",
     "shell.execute_reply": "2022-11-16T12:56:59.435917Z"
    }
   },
   "outputs": [
    {
     "name": "stdout",
     "output_type": "stream",
     "text": [
      "<class 'stormpy.storage.storage.SymbolicSylvanDtmc'>\n"
     ]
    }
   ],
   "source": [
    ">>> print(type(symbolic_model))"
   ]
  },
  {
   "cell_type": "code",
   "execution_count": 13,
   "metadata": {
    "execution": {
     "iopub.execute_input": "2022-11-16T12:56:59.440580Z",
     "iopub.status.busy": "2022-11-16T12:56:59.439540Z",
     "iopub.status.idle": "2022-11-16T12:56:59.445667Z",
     "shell.execute_reply": "2022-11-16T12:56:59.445204Z"
    }
   },
   "outputs": [
    {
     "name": "stdout",
     "output_type": "stream",
     "text": [
      "0.166667\n"
     ]
    }
   ],
   "source": [
    ">>> hybrid_result = stormpy.check_model_hybrid(symbolic_model, properties[0])\n",
    ">>> filter = stormpy.create_filter_initial_states_symbolic(symbolic_model)\n",
    ">>> hybrid_result.filter(filter)\n",
    ">>> print(hybrid_result)"
   ]
  }
 ],
 "metadata": {
  "date": 1598178167.148,
  "filename": "engines.rst",
  "kernelspec": {
   "display_name": "Python 3",
   "language": "python",
   "name": "python3"
  },
  "language_info": {
   "codemirror_mode": {
    "name": "ipython",
    "version": 3
   },
   "file_extension": ".py",
   "mimetype": "text/x-python",
   "name": "python",
   "nbconvert_exporter": "python",
   "pygments_lexer": "ipython3",
   "version": "3.10.6"
  },
  "title": "Engines"
 },
 "nbformat": 4,
 "nbformat_minor": 4
}
