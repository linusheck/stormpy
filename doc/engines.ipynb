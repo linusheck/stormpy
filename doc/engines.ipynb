{
 "cells": [
  {
   "cell_type": "markdown",
   "metadata": {},
   "source": [
    "# Engines"
   ]
  },
  {
   "cell_type": "markdown",
   "metadata": {},
   "source": [
    "## Background\n",
    "\n",
    "Storm supports different engines for building and checking a model. A detailed comparison of the different engines provided in Storm can be found on the [Storm website](https://www.stormchecker.org/documentation/usage/engines.html)."
   ]
  },
  {
   "cell_type": "markdown",
   "metadata": {},
   "source": [
    "## Sparse engine\n",
    "\n",
    "In all of the examples so far we used the default sparse engine:"
   ]
  },
  {
   "cell_type": "code",
   "execution_count": 1,
   "metadata": {
    "execution": {
     "iopub.execute_input": "2022-09-06T22:41:13.409660Z",
     "iopub.status.busy": "2022-09-06T22:41:13.409314Z",
     "iopub.status.idle": "2022-09-06T22:41:13.509573Z",
     "shell.execute_reply": "2022-09-06T22:41:13.508570Z"
    }
   },
   "outputs": [
    {
     "name": "stdout",
     "output_type": "stream",
     "text": [
      "<class 'stormpy.storage.storage.SparseDtmc'>\n"
     ]
    }
   ],
   "source": [
    ">>> import stormpy.examples\n",
    ">>> import stormpy.examples.files\n",
    ">>> prism_program = stormpy.parse_prism_program(stormpy.examples.files.prism_dtmc_die)\n",
    ">>> properties = stormpy.parse_properties('P=? [F \"one\"]', prism_program)\n",
    ">>> sparse_model = stormpy.build_sparse_model(prism_program, properties)\n",
    ">>> print(type(sparse_model))\n"
   ]
  },
  {
   "cell_type": "code",
   "execution_count": 2,
   "metadata": {
    "execution": {
     "iopub.execute_input": "2022-09-06T22:41:13.513649Z",
     "iopub.status.busy": "2022-09-06T22:41:13.513227Z",
     "iopub.status.idle": "2022-09-06T22:41:13.517764Z",
     "shell.execute_reply": "2022-09-06T22:41:13.516925Z"
    }
   },
   "outputs": [
    {
     "name": "stdout",
     "output_type": "stream",
     "text": [
      "Number of states: 13\n"
     ]
    }
   ],
   "source": [
    ">>> print(\"Number of states: {}\".format(sparse_model.nr_states))\n",
    "\n"
   ]
  },
  {
   "cell_type": "code",
   "execution_count": 3,
   "metadata": {
    "execution": {
     "iopub.execute_input": "2022-09-06T22:41:13.521626Z",
     "iopub.status.busy": "2022-09-06T22:41:13.521089Z",
     "iopub.status.idle": "2022-09-06T22:41:13.526034Z",
     "shell.execute_reply": "2022-09-06T22:41:13.525090Z"
    }
   },
   "outputs": [
    {
     "name": "stdout",
     "output_type": "stream",
     "text": [
      "Number of transitions: 20\n"
     ]
    }
   ],
   "source": [
    ">>> print(\"Number of transitions: {}\".format(sparse_model.nr_transitions))"
   ]
  },
  {
   "cell_type": "code",
   "execution_count": 4,
   "metadata": {
    "execution": {
     "iopub.execute_input": "2022-09-06T22:41:13.531357Z",
     "iopub.status.busy": "2022-09-06T22:41:13.530512Z",
     "iopub.status.idle": "2022-09-06T22:41:13.535890Z",
     "shell.execute_reply": "2022-09-06T22:41:13.534914Z"
    }
   },
   "outputs": [
    {
     "name": "stdout",
     "output_type": "stream",
     "text": [
      "0.16666666666666666\n"
     ]
    }
   ],
   "source": [
    ">>> sparse_result = stormpy.check_model_sparse(sparse_model, properties[0])\n",
    ">>> initial_state = sparse_model.initial_states[0]\n",
    ">>> print(sparse_result.at(initial_state))"
   ]
  },
  {
   "cell_type": "markdown",
   "metadata": {},
   "source": [
    "## Symbolic engine\n",
    "\n",
    "Instead of using the sparse engine, one can also use a symbolic representation in terms of binary decision diagrams (BDDs).\n",
    "To use the symbolic (dd) engine, we use the symbolic versions for the building and model checking:\n"
   ]
  },
  {
   "cell_type": "code",
   "execution_count": 5,
   "metadata": {
    "execution": {
     "iopub.execute_input": "2022-09-06T22:41:13.540829Z",
     "iopub.status.busy": "2022-09-06T22:41:13.540259Z",
     "iopub.status.idle": "2022-09-06T22:41:13.932741Z",
     "shell.execute_reply": "2022-09-06T22:41:13.931952Z"
    }
   },
   "outputs": [
    {
     "name": "stdout",
     "output_type": "stream",
     "text": [
      "<class 'stormpy.storage.storage.SymbolicSylvanDtmc'>"
     ]
    },
    {
     "name": "stdout",
     "output_type": "stream",
     "text": [
      "\n"
     ]
    }
   ],
   "source": [
    ">>> symbolic_model = stormpy.build_symbolic_model(prism_program, properties)\n",
    ">>> print(type(symbolic_model))"
   ]
  },
  {
   "cell_type": "code",
   "execution_count": 6,
   "metadata": {
    "execution": {
     "iopub.execute_input": "2022-09-06T22:41:13.937379Z",
     "iopub.status.busy": "2022-09-06T22:41:13.936583Z",
     "iopub.status.idle": "2022-09-06T22:41:13.942887Z",
     "shell.execute_reply": "2022-09-06T22:41:13.942106Z"
    }
   },
   "outputs": [
    {
     "name": "stdout",
     "output_type": "stream",
     "text": [
      "Number of states: 13\n"
     ]
    }
   ],
   "source": [
    ">>> print(\"Number of states: {}\".format(symbolic_model.nr_states))"
   ]
  },
  {
   "cell_type": "code",
   "execution_count": 7,
   "metadata": {
    "execution": {
     "iopub.execute_input": "2022-09-06T22:41:13.946714Z",
     "iopub.status.busy": "2022-09-06T22:41:13.946262Z",
     "iopub.status.idle": "2022-09-06T22:41:13.953260Z",
     "shell.execute_reply": "2022-09-06T22:41:13.952475Z"
    }
   },
   "outputs": [
    {
     "name": "stdout",
     "output_type": "stream",
     "text": [
      "Number of transitions: 20\n"
     ]
    }
   ],
   "source": [
    ">>> print(\"Number of transitions: {}\".format(symbolic_model.nr_transitions))"
   ]
  },
  {
   "cell_type": "code",
   "execution_count": 8,
   "metadata": {
    "execution": {
     "iopub.execute_input": "2022-09-06T22:41:13.957004Z",
     "iopub.status.busy": "2022-09-06T22:41:13.956530Z",
     "iopub.status.idle": "2022-09-06T22:41:13.982786Z",
     "shell.execute_reply": "2022-09-06T22:41:13.982001Z"
    }
   },
   "outputs": [
    {
     "name": "stdout",
     "output_type": "stream",
     "text": [
      "[0, 1] (range)\n"
     ]
    }
   ],
   "source": [
    ">>> symbolic_result = stormpy.check_model_dd(symbolic_model, properties[0])\n",
    ">>> print(symbolic_result)"
   ]
  },
  {
   "cell_type": "markdown",
   "metadata": {},
   "source": [
    "We can also filter the computed results and only consider the initial states:"
   ]
  },
  {
   "cell_type": "code",
   "execution_count": 9,
   "metadata": {
    "execution": {
     "iopub.execute_input": "2022-09-06T22:41:13.986785Z",
     "iopub.status.busy": "2022-09-06T22:41:13.986243Z",
     "iopub.status.idle": "2022-09-06T22:41:13.991144Z",
     "shell.execute_reply": "2022-09-06T22:41:13.990392Z"
    }
   },
   "outputs": [
    {
     "name": "stdout",
     "output_type": "stream",
     "text": [
      "0.16666650772094727\n"
     ]
    }
   ],
   "source": [
    ">>> filter = stormpy.create_filter_initial_states_symbolic(symbolic_model)\n",
    ">>> symbolic_result.filter(filter)\n",
    ">>> print(symbolic_result.min)"
   ]
  },
  {
   "cell_type": "markdown",
   "metadata": {},
   "source": [
    "It is also possible to first build the model symbolically and then transform it into a sparse model:"
   ]
  },
  {
   "cell_type": "code",
   "execution_count": 10,
   "metadata": {
    "execution": {
     "iopub.execute_input": "2022-09-06T22:41:13.995062Z",
     "iopub.status.busy": "2022-09-06T22:41:13.994406Z",
     "iopub.status.idle": "2022-09-06T22:41:13.998889Z",
     "shell.execute_reply": "2022-09-06T22:41:13.998004Z"
    }
   },
   "outputs": [
    {
     "name": "stdout",
     "output_type": "stream",
     "text": [
      "<class 'stormpy.storage.storage.SymbolicSylvanDtmc'>\n"
     ]
    }
   ],
   "source": [
    ">>> print(type(symbolic_model))"
   ]
  },
  {
   "cell_type": "code",
   "execution_count": 11,
   "metadata": {
    "execution": {
     "iopub.execute_input": "2022-09-06T22:41:14.002489Z",
     "iopub.status.busy": "2022-09-06T22:41:14.001922Z",
     "iopub.status.idle": "2022-09-06T22:41:14.011333Z",
     "shell.execute_reply": "2022-09-06T22:41:14.010548Z"
    }
   },
   "outputs": [
    {
     "name": "stdout",
     "output_type": "stream",
     "text": [
      "<class 'stormpy.storage.storage.SparseDtmc'>\n"
     ]
    }
   ],
   "source": [
    ">>> transformed_model = stormpy.transform_to_sparse_model(symbolic_model)\n",
    ">>> print(type(transformed_model))"
   ]
  },
  {
   "cell_type": "markdown",
   "metadata": {},
   "source": [
    "## Hybrid engine\n",
    "\n",
    "A third possibility is to use the hybrid engine, a combination of sparse and dd engines.\n",
    "It first builds the model symbolically.\n",
    "The actual model checking is then performed with the engine which is deemed most suitable for the given task.\n"
   ]
  },
  {
   "cell_type": "code",
   "execution_count": 12,
   "metadata": {
    "execution": {
     "iopub.execute_input": "2022-09-06T22:41:14.015260Z",
     "iopub.status.busy": "2022-09-06T22:41:14.014774Z",
     "iopub.status.idle": "2022-09-06T22:41:14.027564Z",
     "shell.execute_reply": "2022-09-06T22:41:14.026620Z"
    }
   },
   "outputs": [
    {
     "name": "stdout",
     "output_type": "stream",
     "text": [
      "<class 'stormpy.storage.storage.SymbolicSylvanDtmc'>\n"
     ]
    }
   ],
   "source": [
    ">>> print(type(symbolic_model))"
   ]
  },
  {
   "cell_type": "code",
   "execution_count": 13,
   "metadata": {
    "execution": {
     "iopub.execute_input": "2022-09-06T22:41:14.031219Z",
     "iopub.status.busy": "2022-09-06T22:41:14.030591Z",
     "iopub.status.idle": "2022-09-06T22:41:14.036842Z",
     "shell.execute_reply": "2022-09-06T22:41:14.035826Z"
    }
   },
   "outputs": [
    {
     "name": "stdout",
     "output_type": "stream",
     "text": [
      "0.166667\n"
     ]
    }
   ],
   "source": [
    ">>> hybrid_result = stormpy.check_model_hybrid(symbolic_model, properties[0])\n",
    ">>> filter = stormpy.create_filter_initial_states_symbolic(symbolic_model)\n",
    ">>> hybrid_result.filter(filter)\n",
    ">>> print(hybrid_result)"
   ]
  }
 ],
 "metadata": {
  "date": 1598178167.148,
  "filename": "engines.rst",
  "kernelspec": {
   "display_name": "Python 3",
   "language": "python",
   "name": "python3"
  },
  "language_info": {
   "codemirror_mode": {
    "name": "ipython",
    "version": 3
   },
   "file_extension": ".py",
   "mimetype": "text/x-python",
   "name": "python",
   "nbconvert_exporter": "python",
   "pygments_lexer": "ipython3",
   "version": "3.10.4"
  },
  "title": "Engines"
 },
 "nbformat": 4,
 "nbformat_minor": 4
}
